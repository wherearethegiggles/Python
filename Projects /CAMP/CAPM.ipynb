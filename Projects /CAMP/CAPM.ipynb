{
  "nbformat": 4,
  "nbformat_minor": 0,
  "metadata": {
    "colab": {
      "provenance": []
    },
    "kernelspec": {
      "name": "python3",
      "display_name": "Python 3"
    },
    "language_info": {
      "name": "python"
    }
  },
  "cells": [
    {
      "cell_type": "code",
      "source": [
        "!pip install streamlit"
      ],
      "metadata": {
        "colab": {
          "base_uri": "https://localhost:8080/"
        },
        "id": "Sw-YJBLBHoSy",
        "outputId": "fdaac8ec-c455-4524-99e0-3870c8accd1b"
      },
      "execution_count": 21,
      "outputs": [
        {
          "output_type": "stream",
          "name": "stdout",
          "text": [
            "Requirement already satisfied: streamlit in /usr/local/lib/python3.10/dist-packages (1.27.2)\n",
            "Requirement already satisfied: altair<6,>=4.0 in /usr/local/lib/python3.10/dist-packages (from streamlit) (4.2.2)\n",
            "Requirement already satisfied: blinker<2,>=1.0.0 in /usr/lib/python3/dist-packages (from streamlit) (1.4)\n",
            "Requirement already satisfied: cachetools<6,>=4.0 in /usr/local/lib/python3.10/dist-packages (from streamlit) (5.3.1)\n",
            "Requirement already satisfied: click<9,>=7.0 in /usr/local/lib/python3.10/dist-packages (from streamlit) (8.1.7)\n",
            "Requirement already satisfied: importlib-metadata<7,>=1.4 in /usr/local/lib/python3.10/dist-packages (from streamlit) (6.8.0)\n",
            "Requirement already satisfied: numpy<2,>=1.19.3 in /usr/local/lib/python3.10/dist-packages (from streamlit) (1.23.5)\n",
            "Requirement already satisfied: packaging<24,>=16.8 in /usr/local/lib/python3.10/dist-packages (from streamlit) (23.2)\n",
            "Requirement already satisfied: pandas<3,>=1.3.0 in /usr/local/lib/python3.10/dist-packages (from streamlit) (1.5.3)\n",
            "Requirement already satisfied: pillow<11,>=7.1.0 in /usr/local/lib/python3.10/dist-packages (from streamlit) (9.4.0)\n",
            "Requirement already satisfied: protobuf<5,>=3.20 in /usr/local/lib/python3.10/dist-packages (from streamlit) (3.20.3)\n",
            "Requirement already satisfied: pyarrow>=6.0 in /usr/local/lib/python3.10/dist-packages (from streamlit) (9.0.0)\n",
            "Requirement already satisfied: python-dateutil<3,>=2.7.3 in /usr/local/lib/python3.10/dist-packages (from streamlit) (2.8.2)\n",
            "Requirement already satisfied: requests<3,>=2.27 in /usr/local/lib/python3.10/dist-packages (from streamlit) (2.31.0)\n",
            "Requirement already satisfied: rich<14,>=10.14.0 in /usr/local/lib/python3.10/dist-packages (from streamlit) (13.6.0)\n",
            "Requirement already satisfied: tenacity<9,>=8.1.0 in /usr/local/lib/python3.10/dist-packages (from streamlit) (8.2.3)\n",
            "Requirement already satisfied: toml<2,>=0.10.1 in /usr/local/lib/python3.10/dist-packages (from streamlit) (0.10.2)\n",
            "Requirement already satisfied: typing-extensions<5,>=4.3.0 in /usr/local/lib/python3.10/dist-packages (from streamlit) (4.5.0)\n",
            "Requirement already satisfied: tzlocal<6,>=1.1 in /usr/local/lib/python3.10/dist-packages (from streamlit) (5.1)\n",
            "Requirement already satisfied: validators<1,>=0.2 in /usr/local/lib/python3.10/dist-packages (from streamlit) (0.22.0)\n",
            "Requirement already satisfied: gitpython!=3.1.19,<4,>=3.0.7 in /usr/local/lib/python3.10/dist-packages (from streamlit) (3.1.37)\n",
            "Requirement already satisfied: pydeck<1,>=0.8.0b4 in /usr/local/lib/python3.10/dist-packages (from streamlit) (0.8.1b0)\n",
            "Requirement already satisfied: tornado<7,>=6.0.3 in /usr/local/lib/python3.10/dist-packages (from streamlit) (6.3.2)\n",
            "Requirement already satisfied: watchdog>=2.1.5 in /usr/local/lib/python3.10/dist-packages (from streamlit) (3.0.0)\n",
            "Requirement already satisfied: entrypoints in /usr/local/lib/python3.10/dist-packages (from altair<6,>=4.0->streamlit) (0.4)\n",
            "Requirement already satisfied: jinja2 in /usr/local/lib/python3.10/dist-packages (from altair<6,>=4.0->streamlit) (3.1.2)\n",
            "Requirement already satisfied: jsonschema>=3.0 in /usr/local/lib/python3.10/dist-packages (from altair<6,>=4.0->streamlit) (4.19.1)\n",
            "Requirement already satisfied: toolz in /usr/local/lib/python3.10/dist-packages (from altair<6,>=4.0->streamlit) (0.12.0)\n",
            "Requirement already satisfied: gitdb<5,>=4.0.1 in /usr/local/lib/python3.10/dist-packages (from gitpython!=3.1.19,<4,>=3.0.7->streamlit) (4.0.10)\n",
            "Requirement already satisfied: zipp>=0.5 in /usr/local/lib/python3.10/dist-packages (from importlib-metadata<7,>=1.4->streamlit) (3.17.0)\n",
            "Requirement already satisfied: pytz>=2020.1 in /usr/local/lib/python3.10/dist-packages (from pandas<3,>=1.3.0->streamlit) (2023.3.post1)\n",
            "Requirement already satisfied: six>=1.5 in /usr/local/lib/python3.10/dist-packages (from python-dateutil<3,>=2.7.3->streamlit) (1.16.0)\n",
            "Requirement already satisfied: charset-normalizer<4,>=2 in /usr/local/lib/python3.10/dist-packages (from requests<3,>=2.27->streamlit) (3.3.0)\n",
            "Requirement already satisfied: idna<4,>=2.5 in /usr/local/lib/python3.10/dist-packages (from requests<3,>=2.27->streamlit) (3.4)\n",
            "Requirement already satisfied: urllib3<3,>=1.21.1 in /usr/local/lib/python3.10/dist-packages (from requests<3,>=2.27->streamlit) (2.0.6)\n",
            "Requirement already satisfied: certifi>=2017.4.17 in /usr/local/lib/python3.10/dist-packages (from requests<3,>=2.27->streamlit) (2023.7.22)\n",
            "Requirement already satisfied: markdown-it-py>=2.2.0 in /usr/local/lib/python3.10/dist-packages (from rich<14,>=10.14.0->streamlit) (3.0.0)\n",
            "Requirement already satisfied: pygments<3.0.0,>=2.13.0 in /usr/local/lib/python3.10/dist-packages (from rich<14,>=10.14.0->streamlit) (2.16.1)\n",
            "Requirement already satisfied: smmap<6,>=3.0.1 in /usr/local/lib/python3.10/dist-packages (from gitdb<5,>=4.0.1->gitpython!=3.1.19,<4,>=3.0.7->streamlit) (5.0.1)\n",
            "Requirement already satisfied: MarkupSafe>=2.0 in /usr/local/lib/python3.10/dist-packages (from jinja2->altair<6,>=4.0->streamlit) (2.1.3)\n",
            "Requirement already satisfied: attrs>=22.2.0 in /usr/local/lib/python3.10/dist-packages (from jsonschema>=3.0->altair<6,>=4.0->streamlit) (23.1.0)\n",
            "Requirement already satisfied: jsonschema-specifications>=2023.03.6 in /usr/local/lib/python3.10/dist-packages (from jsonschema>=3.0->altair<6,>=4.0->streamlit) (2023.7.1)\n",
            "Requirement already satisfied: referencing>=0.28.4 in /usr/local/lib/python3.10/dist-packages (from jsonschema>=3.0->altair<6,>=4.0->streamlit) (0.30.2)\n",
            "Requirement already satisfied: rpds-py>=0.7.1 in /usr/local/lib/python3.10/dist-packages (from jsonschema>=3.0->altair<6,>=4.0->streamlit) (0.10.4)\n",
            "Requirement already satisfied: mdurl~=0.1 in /usr/local/lib/python3.10/dist-packages (from markdown-it-py>=2.2.0->rich<14,>=10.14.0->streamlit) (0.1.2)\n"
          ]
        }
      ]
    },
    {
      "cell_type": "code",
      "source": [
        "!pip install pyngrok"
      ],
      "metadata": {
        "colab": {
          "base_uri": "https://localhost:8080/"
        },
        "id": "EMOQ4GKiJQnk",
        "outputId": "caa93bde-713c-42fe-809b-7899c46d7a04"
      },
      "execution_count": 26,
      "outputs": [
        {
          "output_type": "stream",
          "name": "stdout",
          "text": [
            "Requirement already satisfied: pyngrok in /usr/local/lib/python3.10/dist-packages (7.0.0)\n",
            "Requirement already satisfied: PyYAML in /usr/local/lib/python3.10/dist-packages (from pyngrok) (6.0.1)\n"
          ]
        }
      ]
    },
    {
      "cell_type": "code",
      "source": [
        "%%writefile capm_functions.py\n",
        "import plotly. express as px\n",
        "# function to plot interactive plotly chart\n",
        "def interactive_plot(df):\n",
        "    fig = px.line()\n",
        "    for i in df.columns[1:]:\n",
        "        fig.add_scatter(x = df['Date'],y =df[i], name = i)\n",
        "    fig.update_layout(width = 450, margin = dict(l=20,r =20, t= 50, b = 20), legend = dict(orientation = 'h', yanchor = 'bottom',\n",
        "    y = 1.02, xanchor = 'right', x = 1, ))\n",
        "    return fig\n",
        "# function to normalize the prices based on the initial price\n",
        "def normalize(df_2):\n",
        "    df = df_2.copy()\n",
        "    for i in df.columns[1:]:\n",
        "        df[i] = df[i]/df[i][0]\n",
        "    return df\n",
        "\n",
        "# function to calculate daily returns\n",
        "def daily_return(df):\n",
        "    df_daily_return = df. copy()\n",
        "    for i in df.columns[1:]:\n",
        "        for j in range(1,len(df)):\n",
        "            df_daily_return[i][j]= ((df[i][j]-df[i][j-1])/df[i][j-1])*100\n",
        "        df_daily_return[i][0] = 0\n",
        "    return df_daily_return\n",
        "\n"
      ],
      "metadata": {
        "id": "ETXtzPiYHCG3",
        "colab": {
          "base_uri": "https://localhost:8080/"
        },
        "outputId": "3b84c32f-3764-4a4b-e673-340664be7b46"
      },
      "execution_count": 27,
      "outputs": [
        {
          "output_type": "stream",
          "name": "stdout",
          "text": [
            "Overwriting capm_functions.py\n"
          ]
        }
      ]
    },
    {
      "cell_type": "code",
      "source": [
        "%%writefile CAPM_Return.py\n",
        "# Importing Libraries\n",
        "import datetime\n",
        "import streamlit as st\n",
        "import pandas as pd\n",
        "import yfinance as yf\n",
        "import pandas_datareader.data as web\n",
        "\n",
        "st.set_page_config(page_title = \"CAPM\",page_icon = \"chart_with_upwards_trend\",layout = 'wide')\n",
        "st.title(\"Capital Asset Pricing Model\")\n",
        "\n",
        "# getting input from user\n",
        "col1, col2 = st.columns([1,1])\n",
        "with col1:\n",
        "    stocks_list = st.multiselect(\"Choose 4 stocks\", ('TSLA', 'AAPL' , 'NFLX' , 'MSFT', 'MGM' , 'AMZN' , 'NVDA' , 'GOOGL' ), ['TSLA' , 'AAPL' , 'AMZN', 'GOOGL'])\n",
        "with col2:\n",
        "    year = st.number_input(\"Number of years\", 1,10)\n",
        "\n",
        "# downloading data for SP500\n",
        "end = datetime.date. today()\n",
        "start = datetime.date(datetime.date.today().year-year, datetime.date.today().month, datetime.date.today().day)\n",
        "SP500 = web.DataReader(['sp500'], 'fred', start, end)\n",
        "\n",
        "stocks_df = pd. DataFrame()\n",
        "\n",
        "for stock in stocks_list:\n",
        "    data = yf.download(stock, period = f'{year}y')\n",
        "    stocks_df[f'{stock}'] = data['Close']\n",
        "\n",
        "stocks_df.reset_index(inplace = True)\n",
        "SP500.reset_index(inplace = True)\n",
        "SP500.columns = ['Date','sp500']\n",
        "stocks_df['Date'] = stocks_df['Date'].astype('datetime64[ns]')\n",
        "stocks_df['Date'] = stocks_df['Date'].apply(lambda x:str(x)[:10])\n",
        "stocks_df['Date'] = pd. to_datetime(stocks_df['Date'])\n",
        "stocks_df = pd.merge(stocks_df, SP500, on ='Date', how = 'inner')\n",
        "\n",
        "col1, col2 = st.columns([1,1])\n",
        "with col1:\n",
        "  st.markdown(\"### Dataframe head\")\n",
        "  st.dataframe(stocks_df.head(), use_container_width = True)\n",
        "with col2:\n",
        "  st.markdown(\"### Dataframe tail\")\n",
        "  st.dataframe(stocks_df.tail(), use_container_width = True)\n",
        "\n",
        "# downloading data for SP500\n",
        "try:\n",
        "\n",
        "  end = datetime.date.today()\n",
        "  start = datetime.date(datetime.date.today().year-year, datetime.date.today().month, datetime.date.today().day)\n",
        "  SP500 = web. DataReader(['sp500'], 'fred', start, end)\n",
        "  stocks_df = pd. DataFrame()\n",
        "  for stock in stocks_list:\n",
        "      data = yf.download(stock, period = f'{year}y')\n",
        "      stocks_df[f'{stock}'] = data['Close']\n",
        "\n",
        "  stocks_df.reset_index(inplace = True)\n",
        "  SP500.reset_index(inplace = True)\n",
        "  SP500.columns = ['Date','sp500']\n",
        "  stocks_df['Date'] = stocks_df['Date'].astype('datetime64[ns]')\n",
        "  stocks_df['Date'] = stocks_df['Date']. apply(lambda x:str(x)[:10])\n",
        "  stocks_df['Date'] = pd. to_datetime(stocks_df['Date'])\n",
        "  stocks_df = pd.merge(stocks_df, SP500, on ='Date', how = 'inner')\n",
        "  col1, col2 = st.columns([1,1])\n",
        "  with col1:\n",
        "    st.markdown(\"### Dataframe head\")\n",
        "    st.dataframe(stocks_df.head(), use_container_width = True)\n",
        "  with col2:\n",
        "    st.markdown(\"### Dataframe tail\")\n",
        "    st.dataframe(stocks_df.tail(), use_container_width = True)\n",
        "\n",
        "  stocks_daily_return = capm_functions.daily_return(stocks_df)\n",
        "  print(stocks_daily_return.head())\n",
        "\n",
        "  beta = {}\n",
        "  alpha = {}\n",
        "\n",
        "  for i in stocks_daily_return.columns:\n",
        "      if i != 'Date' and i != 'sp500':\n",
        "          b, a = capm_functions.calculate_beta(stocks_daily_return, i)\n",
        "          beta[i] = b\n",
        "          alpha[i] = a\n",
        "  print(beta, alpha)\n",
        "\n",
        "  beta_df = pd.DataFrame(columns = ['Stock','Beta Value'])\n",
        "  beta_df['Stock'] = beta.keys()\n",
        "  beta_df['Beta Value'] = [str(round(i,2)) for i in beta. values() ]\n",
        "\n",
        "  with col1:\n",
        "      st.markdown('### Calculated Beta Value')\n",
        "      st.dataframe(beta_df, use_container_width =True)\n",
        "  rf = 0\n",
        "  rm = stocks_daily_return['sp500'].mean()*252\n",
        "\n",
        "  return_df = pd.DataFrame()\n",
        "  return_value = []\n",
        "  for stock, value in beta.items():\n",
        "      return_value.append(str(round(rf+(value*(rf-rm)),2)))\n",
        "  return_df['Stock'] = stocks_list\n",
        "\n",
        "  return_df['Return Value'] = return_value\n",
        "  with col2:\n",
        "      st.markdown('### Calculated Return using CAPM')\n",
        "      st.dataframe(return_df, use_container_width=True)\n",
        "\n",
        "except:\n",
        "    st.write(\"Please enter vaild input\")"
      ],
      "metadata": {
        "id": "qTO-DgKSINPK",
        "colab": {
          "base_uri": "https://localhost:8080/"
        },
        "outputId": "2df99312-158f-4af0-9d2c-e02ab2d0193e"
      },
      "execution_count": 28,
      "outputs": [
        {
          "output_type": "stream",
          "name": "stdout",
          "text": [
            "Overwriting CAPM_Return.py\n"
          ]
        }
      ]
    },
    {
      "cell_type": "code",
      "source": [
        "!streamlit run capm_functions.py & npx localtunnel --port 8501"
      ],
      "metadata": {
        "colab": {
          "base_uri": "https://localhost:8080/"
        },
        "id": "SK-XTZPgCQ_3",
        "outputId": "ef2ff891-4c24-4e79-d6f9-f8e4751219b5"
      },
      "execution_count": 32,
      "outputs": [
        {
          "output_type": "stream",
          "name": "stdout",
          "text": [
            "\u001b[?25l[..................] / rollbackFailedOptional: verb npm-session 75d16a11b3da39a\u001b[0m\u001b[K\r[..................] / rollbackFailedOptional: verb npm-session 75d16a11b3da39a\u001b[0m\u001b[K\r[..................] / rollbackFailedOptional: verb npm-session 75d16a11b3da39a\u001b[0m\u001b[K\r[..................] / rollbackFailedOptional: verb npm-session 75d16a11b3da39a\u001b[0m\u001b[K\r\n",
            "Collecting usage statistics. To deactivate, set browser.gatherUsageStats to False.\n",
            "\u001b[0m\n",
            "\u001b[0m\n",
            "\u001b[34m\u001b[1m  You can now view your Streamlit app in your browser.\u001b[0m\n",
            "\u001b[0m\n",
            "\u001b[34m  Network URL: \u001b[0m\u001b[1mhttp://172.28.0.12:8501\u001b[0m\n",
            "\u001b[34m  External URL: \u001b[0m\u001b[1mhttp://35.196.47.13:8501\u001b[0m\n",
            "\u001b[0m\n",
            "\u001b[K\u001b[?25hnpx: installed 22 in 3.066s\n",
            "your url is: https://tiny-eels-attack.loca.lt\n",
            "\u001b[34m  Stopping...\u001b[0m\n",
            "^C\n"
          ]
        }
      ]
    },
    {
      "cell_type": "code",
      "source": [
        "& !streamlit run capm_functions.py"
      ],
      "metadata": {
        "id": "a0v7ncnL8Ip5"
      },
      "execution_count": null,
      "outputs": []
    }
  ]
}